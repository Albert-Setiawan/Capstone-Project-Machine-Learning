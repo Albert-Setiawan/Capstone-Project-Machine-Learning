{
 "cells": [
  {
   "cell_type": "markdown",
   "id": "a54160e1",
   "metadata": {},
   "source": [
    "## Import library"
   ]
  },
  {
   "cell_type": "code",
   "execution_count": 12,
   "id": "41c0f139",
   "metadata": {},
   "outputs": [],
   "source": [
    "import os\n",
    "import shutil\n",
    "import splitfolders"
   ]
  },
  {
   "cell_type": "markdown",
   "id": "64699d80",
   "metadata": {},
   "source": [
    "## Merge multiple datasets from different folders"
   ]
  },
  {
   "cell_type": "code",
   "execution_count": 32,
   "id": "069ec649",
   "metadata": {},
   "outputs": [],
   "source": [
    "# Current folder path\n",
    "current_folder = os.getcwd()\n",
    "\n",
    "# List of folders to be merged\n",
    "list_dir = ['Klepon_1', 'Klepon_2']\n",
    "  \n",
    "# Enumerate on list_dir to get the \n",
    "# content of all the folders ans store it in a dictionary\n",
    "content_list = {}\n",
    "for index, val in enumerate(list_dir):\n",
    "    path = os.path.join(current_folder, val)\n",
    "    content_list[ list_dir[index] ] = os.listdir(path)"
   ]
  },
  {
   "cell_type": "code",
   "execution_count": 33,
   "id": "ad7bf7b2",
   "metadata": {},
   "outputs": [],
   "source": [
    "# Function to create new folder if not exists\n",
    "def make_new_folder(folder_name, parent_folder_path):\n",
    "      \n",
    "    # Path\n",
    "    path = os.path.join(parent_folder_path, folder_name)\n",
    "      \n",
    "    # Create the folder\n",
    "    # 'new_folder' in\n",
    "    # parent_folder\n",
    "    try: \n",
    "        \n",
    "        # mode of the folder\n",
    "        mode = 0o777\n",
    "  \n",
    "        # Create folder\n",
    "        os.mkdir(path, mode) \n",
    "          \n",
    "    except OSError as error: \n",
    "        print(error)\n",
    "  \n",
    "# folder in which all the content \n",
    "# will be merged\n",
    "merge_folder = \"Combined\"\n",
    "  \n",
    "# merge_folder path - current_folder \n",
    "# + merge_folder\n",
    "merge_folder_path = os.path.join(current_folder, merge_folder) \n",
    "  \n",
    "# create merge_folder if not exists\n",
    "make_new_folder(merge_folder, current_folder)"
   ]
  },
  {
   "cell_type": "code",
   "execution_count": 34,
   "id": "6c17c4ee",
   "metadata": {},
   "outputs": [],
   "source": [
    "# Loop through the list of folders\n",
    "for sub_dir in content_list:\n",
    "    # loop through the contents of the\n",
    "    # list of folders\n",
    "    for contents in content_list[sub_dir]:\n",
    "  \n",
    "        # make the path of the content to move \n",
    "        path_to_content = sub_dir + \"/\" + contents  \n",
    "  \n",
    "        # make the path with the current folder\n",
    "        dir_to_move = os.path.join(current_folder, path_to_content )\n",
    "  \n",
    "        # move the file\n",
    "        shutil.copy(dir_to_move, merge_folder_path)"
   ]
  },
  {
   "cell_type": "markdown",
   "id": "6cea142c",
   "metadata": {},
   "source": [
    "## Membagi data menjadi train, test, dan validation"
   ]
  },
  {
   "cell_type": "code",
   "execution_count": 36,
   "id": "d3881dd0",
   "metadata": {},
   "outputs": [
    {
     "ename": "ValueError",
     "evalue": "The input data is not in a right format. Within your folder \"Combined\" there are no directories. Consult the documentation how to the folder structure should look like.",
     "output_type": "error",
     "traceback": [
      "\u001b[1;31m---------------------------------------------------------------------------\u001b[0m",
      "\u001b[1;31mValueError\u001b[0m                                Traceback (most recent call last)",
      "\u001b[1;32m~\\AppData\\Local\\Temp/ipykernel_10560/3309387060.py\u001b[0m in \u001b[0;36m<module>\u001b[1;34m\u001b[0m\n\u001b[1;32m----> 1\u001b[1;33m \u001b[0msplitfolders\u001b[0m\u001b[1;33m.\u001b[0m\u001b[0mratio\u001b[0m\u001b[1;33m(\u001b[0m\u001b[1;34m'Combined'\u001b[0m\u001b[1;33m,\u001b[0m \u001b[0moutput\u001b[0m\u001b[1;33m=\u001b[0m\u001b[1;34m\"output\"\u001b[0m\u001b[1;33m,\u001b[0m \u001b[0mseed\u001b[0m\u001b[1;33m=\u001b[0m\u001b[1;36m1337\u001b[0m\u001b[1;33m,\u001b[0m \u001b[0mratio\u001b[0m\u001b[1;33m=\u001b[0m\u001b[1;33m(\u001b[0m\u001b[1;36m0.8\u001b[0m\u001b[1;33m,\u001b[0m \u001b[1;36m0.1\u001b[0m\u001b[1;33m,\u001b[0m \u001b[1;36m0.1\u001b[0m\u001b[1;33m)\u001b[0m\u001b[1;33m)\u001b[0m\u001b[1;33m\u001b[0m\u001b[1;33m\u001b[0m\u001b[0m\n\u001b[0m",
      "\u001b[1;32m~\\anaconda3\\envs\\Deep_Learning\\lib\\site-packages\\splitfolders\\split.py\u001b[0m in \u001b[0;36mratio\u001b[1;34m(input, output, seed, ratio, group_prefix, move)\u001b[0m\n\u001b[0;32m     79\u001b[0m         \u001b[1;32mraise\u001b[0m \u001b[0mValueError\u001b[0m\u001b[1;33m(\u001b[0m\u001b[1;34m\"`ratio` should\"\u001b[0m\u001b[1;33m)\u001b[0m\u001b[1;33m\u001b[0m\u001b[1;33m\u001b[0m\u001b[0m\n\u001b[0;32m     80\u001b[0m \u001b[1;33m\u001b[0m\u001b[0m\n\u001b[1;32m---> 81\u001b[1;33m     \u001b[0mcheck_input_format\u001b[0m\u001b[1;33m(\u001b[0m\u001b[0minput\u001b[0m\u001b[1;33m)\u001b[0m\u001b[1;33m\u001b[0m\u001b[1;33m\u001b[0m\u001b[0m\n\u001b[0m\u001b[0;32m     82\u001b[0m \u001b[1;33m\u001b[0m\u001b[0m\n\u001b[0;32m     83\u001b[0m     \u001b[1;32mif\u001b[0m \u001b[0muse_tqdm\u001b[0m\u001b[1;33m:\u001b[0m\u001b[1;33m\u001b[0m\u001b[1;33m\u001b[0m\u001b[0m\n",
      "\u001b[1;32m~\\anaconda3\\envs\\Deep_Learning\\lib\\site-packages\\splitfolders\\split.py\u001b[0m in \u001b[0;36mcheck_input_format\u001b[1;34m(input)\u001b[0m\n\u001b[0;32m     61\u001b[0m     \u001b[0mdirs\u001b[0m \u001b[1;33m=\u001b[0m \u001b[0mlist_dirs\u001b[0m\u001b[1;33m(\u001b[0m\u001b[0minput\u001b[0m\u001b[1;33m)\u001b[0m\u001b[1;33m\u001b[0m\u001b[1;33m\u001b[0m\u001b[0m\n\u001b[0;32m     62\u001b[0m     \u001b[1;32mif\u001b[0m \u001b[0mlen\u001b[0m\u001b[1;33m(\u001b[0m\u001b[0mdirs\u001b[0m\u001b[1;33m)\u001b[0m \u001b[1;33m==\u001b[0m \u001b[1;36m0\u001b[0m\u001b[1;33m:\u001b[0m\u001b[1;33m\u001b[0m\u001b[1;33m\u001b[0m\u001b[0m\n\u001b[1;32m---> 63\u001b[1;33m         raise ValueError(\n\u001b[0m\u001b[0;32m     64\u001b[0m             \u001b[1;34mf'The input data is not in a right format. Within your folder \"{input}\" there are no directories. Consult the documentation how to the folder structure should look like.'\u001b[0m\u001b[1;33m\u001b[0m\u001b[1;33m\u001b[0m\u001b[0m\n\u001b[0;32m     65\u001b[0m         )\n",
      "\u001b[1;31mValueError\u001b[0m: The input data is not in a right format. Within your folder \"Combined\" there are no directories. Consult the documentation how to the folder structure should look like."
     ]
    }
   ],
   "source": [
    "splitfolders.ratio('Combined', output=\"output\", seed=1337, ratio=(0.8, 0.1, 0.1)) "
   ]
  }
 ],
 "metadata": {
  "kernelspec": {
   "display_name": "Python 3 (ipykernel)",
   "language": "python",
   "name": "python3"
  },
  "language_info": {
   "codemirror_mode": {
    "name": "ipython",
    "version": 3
   },
   "file_extension": ".py",
   "mimetype": "text/x-python",
   "name": "python",
   "nbconvert_exporter": "python",
   "pygments_lexer": "ipython3",
   "version": "3.9.7"
  }
 },
 "nbformat": 4,
 "nbformat_minor": 5
}
